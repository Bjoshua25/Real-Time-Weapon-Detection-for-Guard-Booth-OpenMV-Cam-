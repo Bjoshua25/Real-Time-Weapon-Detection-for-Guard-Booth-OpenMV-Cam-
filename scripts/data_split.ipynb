{
 "cells": [
  {
   "cell_type": "markdown",
   "id": "13417954",
   "metadata": {},
   "source": [
    "# Data Splitting into Train and Test Split"
   ]
  },
  {
   "cell_type": "code",
   "execution_count": 2,
   "id": "4fd244a9",
   "metadata": {},
   "outputs": [],
   "source": [
    "# Libraries\n",
    "\n",
    "import os\n",
    "import shutil\n",
    "import random"
   ]
  },
  {
   "cell_type": "code",
   "execution_count": 3,
   "id": "54c1f546",
   "metadata": {},
   "outputs": [
    {
     "name": "stdout",
     "output_type": "stream",
     "text": [
      "[✓] human_only: 231 train, 58 test\n",
      "[✓] human_with_weapon: 312 train, 78 test\n",
      "[✓] no_threat: 163 train, 41 test\n",
      "[✓] weapon_only: 246 train, 62 test\n",
      "\n",
      "✅ Dataset split completed.\n"
     ]
    }
   ],
   "source": [
    "# === CONFIGURATION ===\n",
    "base_dir = \"c:/Users/user/Documents/Real_time_weapon_detection/processed_data\"\n",
    "output_base = \"c:/Users/user/Documents/Real_time_weapon_detection/split_data\"\n",
    "train_ratio = 0.8  # 80% train, 20% test\n",
    "\n",
    "random.seed(42)\n",
    "\n",
    "# === CLEAN START ===\n",
    "if os.path.exists(output_base):\n",
    "    shutil.rmtree(output_base)\n",
    "os.makedirs(os.path.join(output_base, \"train\"), exist_ok=True)\n",
    "os.makedirs(os.path.join(output_base, \"test\"), exist_ok=True)\n",
    "\n",
    "# === SPLITTING FUNCTION ===\n",
    "for class_name in os.listdir(base_dir):\n",
    "    class_path = os.path.join(base_dir, class_name)\n",
    "    if not os.path.isdir(class_path):\n",
    "        continue\n",
    "\n",
    "    images = [f for f in os.listdir(class_path) if f.lower().endswith((\".jpg\", \".jpeg\", \".png\"))]\n",
    "    random.shuffle(images)\n",
    "\n",
    "    split_idx = int(len(images) * train_ratio)\n",
    "    train_imgs = images[:split_idx]\n",
    "    test_imgs = images[split_idx:]\n",
    "\n",
    "    # Create class subfolders\n",
    "    train_class_dir = os.path.join(output_base, \"train\", class_name)\n",
    "    test_class_dir = os.path.join(output_base, \"test\", class_name)\n",
    "    os.makedirs(train_class_dir, exist_ok=True)\n",
    "    os.makedirs(test_class_dir, exist_ok=True)\n",
    "\n",
    "    # Copy images\n",
    "    for img in train_imgs:\n",
    "        shutil.copy2(os.path.join(class_path, img), os.path.join(train_class_dir, img))\n",
    "    for img in test_imgs:\n",
    "        shutil.copy2(os.path.join(class_path, img), os.path.join(test_class_dir, img))\n",
    "\n",
    "    print(f\"[✓] {class_name}: {len(train_imgs)} train, {len(test_imgs)} test\")\n",
    "\n",
    "print(\"\\n✅ Dataset split completed.\")\n"
   ]
  }
 ],
 "metadata": {
  "kernelspec": {
   "display_name": "base",
   "language": "python",
   "name": "python3"
  },
  "language_info": {
   "codemirror_mode": {
    "name": "ipython",
    "version": 3
   },
   "file_extension": ".py",
   "mimetype": "text/x-python",
   "name": "python",
   "nbconvert_exporter": "python",
   "pygments_lexer": "ipython3",
   "version": "3.12.7"
  }
 },
 "nbformat": 4,
 "nbformat_minor": 5
}
