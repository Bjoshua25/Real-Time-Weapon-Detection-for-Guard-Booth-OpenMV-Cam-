{
 "cells": [
  {
   "cell_type": "markdown",
   "id": "54414776",
   "metadata": {},
   "source": [
    "# Pre-Process The Image Dataset\n",
    "\n",
    "- Traverse your dataset folder.\n",
    "- Rename all images to follow the pattern: <class_name>_<serial>.jpg.\n",
    "- Resize all images to 96×96.\n",
    "- Convert images to RGB (for compatibility).\n",
    "- Overwrite the original files with the resized versions."
   ]
  },
  {
   "cell_type": "code",
   "execution_count": 23,
   "id": "71fcda34",
   "metadata": {},
   "outputs": [],
   "source": [
    "# Libraries\n",
    "\n",
    "import os\n",
    "import random\n",
    "from pathlib import Path\n",
    "from PIL import Image\n",
    "import shutil"
   ]
  },
  {
   "cell_type": "code",
   "execution_count": 9,
   "id": "7233bc47",
   "metadata": {},
   "outputs": [
    {
     "name": "stdout",
     "output_type": "stream",
     "text": [
      "Processing images from c:/Users/user/Documents/Real_time_weapon_detection/datasets to c:/Users/user/Documents/Real_time_weapon_detection/processed_data...\n"
     ]
    }
   ],
   "source": [
    "# === CONFIGURATION ===\n",
    "project_dir = \"c:/Users/user/Documents/Real_time_weapon_detection/\"\n",
    "original_dir = os.path.join(project_dir, \"datasets\")          # Your current dataset path\n",
    "processed_dir = os.path.join(project_dir, \"processed_data\")     # New folder to save processed images\n",
    "target_size = (96, 96)\n",
    "image_extensions = (\".jpg\", \".jpeg\", \".png\")\n",
    "\n",
    "print(f\"Processing images from {original_dir} to {processed_dir}...\")"
   ]
  },
  {
   "cell_type": "code",
   "execution_count": 10,
   "id": "7c34c1a6",
   "metadata": {},
   "outputs": [],
   "source": [
    "# === CLEAN START ===\n",
    "if os.path.exists(processed_dir):\n",
    "    shutil.rmtree(processed_dir)\n",
    "os.makedirs(processed_dir)"
   ]
  },
  {
   "cell_type": "code",
   "execution_count": null,
   "id": "8191deaf",
   "metadata": {},
   "outputs": [],
   "source": [
    "# === PROCESSING FUNCTION ===\n",
    "def preprocess_and_copy_images():\n",
    "    for class_name in os.listdir(original_dir):\n",
    "        class_path = os.path.join(original_dir, class_name)\n",
    "        new_class_path = os.path.join(processed_dir, class_name)\n",
    "\n",
    "        if not os.path.isdir(class_path):\n",
    "            continue\n",
    "\n",
    "        os.makedirs(new_class_path, exist_ok=True)\n",
    "\n",
    "        image_files = [f for f in os.listdir(class_path) if f.lower().endswith(image_extensions)]\n",
    "\n",
    "        for idx, filename in enumerate(sorted(image_files)):\n",
    "            old_path = os.path.join(class_path, filename)\n",
    "            new_filename = f\"{class_name}_{idx + 1}.jpg\"\n",
    "            new_path = os.path.join(new_class_path, new_filename)\n",
    "\n",
    "            try:\n",
    "                with Image.open(old_path) as img:\n",
    "                    img = img.convert(\"RGB\")\n",
    "                    img = img.resize(target_size, Image.LANCZOS)\n",
    "                    img.save(new_path, format=\"JPEG\")\n",
    "                print(f\"[✓] Saved: {new_path}\")\n",
    "            except Exception as e:\n",
    "                print(f\"[✗] Failed to process {filename}: {e}\")\n",
    "\n",
    "    \n",
    "\n",
    "\n"
   ]
  },
  {
   "cell_type": "code",
   "execution_count": null,
   "id": "f8ae0637",
   "metadata": {},
   "outputs": [],
   "source": [
    "# === RUN ===\n",
    "preprocess_and_copy_images()"
   ]
  }
 ],
 "metadata": {
  "kernelspec": {
   "display_name": "base",
   "language": "python",
   "name": "python3"
  },
  "language_info": {
   "codemirror_mode": {
    "name": "ipython",
    "version": 3
   },
   "file_extension": ".py",
   "mimetype": "text/x-python",
   "name": "python",
   "nbconvert_exporter": "python",
   "pygments_lexer": "ipython3",
   "version": "3.12.7"
  }
 },
 "nbformat": 4,
 "nbformat_minor": 5
}
